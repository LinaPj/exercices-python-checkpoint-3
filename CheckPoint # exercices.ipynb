{
 "cells": [
  {
   "cell_type": "markdown",
   "id": "3b230a19",
   "metadata": {},
   "source": [
    "# Question 1 \n",
    "#Write a Python program to multiplies all the items in a list.\n",
    "\n",
    "#for example list=[2, 3, 6]\n",
    "\n",
    "#result = 36\n",
    "\n"
   ]
  },
  {
   "cell_type": "code",
   "execution_count": 29,
   "id": "16e9109b",
   "metadata": {},
   "outputs": [
    {
     "name": "stdout",
     "output_type": "stream",
     "text": [
      "36\n"
     ]
    },
    {
     "ename": "TypeError",
     "evalue": "can only concatenate list (not \"int\") to list",
     "output_type": "error",
     "traceback": [
      "\u001b[1;31m---------------------------------------------------------------------------\u001b[0m",
      "\u001b[1;31mTypeError\u001b[0m                                 Traceback (most recent call last)",
      "\u001b[1;32m~\\AppData\\Local\\Temp/ipykernel_11272/3919333917.py\u001b[0m in \u001b[0;36m<module>\u001b[1;34m\u001b[0m\n\u001b[0;32m     11\u001b[0m \u001b[0mr\u001b[0m\u001b[1;33m=\u001b[0m\u001b[1;33m[\u001b[0m\u001b[1;36m2\u001b[0m\u001b[1;33m,\u001b[0m\u001b[1;36m3\u001b[0m\u001b[1;33m,\u001b[0m\u001b[1;36m6\u001b[0m\u001b[1;33m]\u001b[0m\u001b[1;33m\u001b[0m\u001b[1;33m\u001b[0m\u001b[0m\n\u001b[0;32m     12\u001b[0m \u001b[1;32mfor\u001b[0m \u001b[0mi\u001b[0m \u001b[1;32min\u001b[0m \u001b[0mr\u001b[0m\u001b[1;33m:\u001b[0m\u001b[1;33m\u001b[0m\u001b[1;33m\u001b[0m\u001b[0m\n\u001b[1;32m---> 13\u001b[1;33m     \u001b[0ml\u001b[0m\u001b[1;33m=\u001b[0m\u001b[0mi\u001b[0m\u001b[1;33m*\u001b[0m\u001b[0mr\u001b[0m\u001b[1;33m+\u001b[0m\u001b[1;36m1\u001b[0m\u001b[1;33m\u001b[0m\u001b[1;33m\u001b[0m\u001b[0m\n\u001b[0m\u001b[0;32m     14\u001b[0m \u001b[0mprint\u001b[0m\u001b[1;33m(\u001b[0m\u001b[0ml\u001b[0m\u001b[1;33m)\u001b[0m\u001b[1;33m\u001b[0m\u001b[1;33m\u001b[0m\u001b[0m\n\u001b[0;32m     15\u001b[0m \u001b[1;33m\u001b[0m\u001b[0m\n",
      "\u001b[1;31mTypeError\u001b[0m: can only concatenate list (not \"int\") to list"
     ]
    }
   ],
   "source": [
    "#l=[2,3,6]\n",
    "#r=[l[0]*l[1]*l[2]]\n",
    "#print(r)\n",
    "    \n",
    "l=[2,3,6]\n",
    "r=1\n",
    "for i in l:\n",
    "    r=r*i\n",
    "print(r)\n",
    "    \n",
    "\n",
    "          "
   ]
  },
  {
   "cell_type": "markdown",
   "id": "b0232a90",
   "metadata": {},
   "source": [
    "# Question 2 \n",
    "#Write a Python program to get a list, sorted in increasing order by the last element in each tuple from a given list of non-#empty tuples.\n",
    "#Sample List : [(2, 5), (1, 2), (4, 4), (2, 3), (2, 1)]\n",
    "#Expected Result : [(2, 1), (1, 2), (2, 3), (4, 4), (2, 5)]\n",
    "\n",
    "#Hint: You can use sort function\n",
    "\n"
   ]
  },
  {
   "cell_type": "code",
   "execution_count": 39,
   "id": "9cbd1f68",
   "metadata": {},
   "outputs": [
    {
     "ename": "SyntaxError",
     "evalue": "invalid syntax (Temp/ipykernel_11272/1421031206.py, line 17)",
     "output_type": "error",
     "traceback": [
      "\u001b[1;36m  File \u001b[1;32m\"C:\\Users\\hp\\AppData\\Local\\Temp/ipykernel_11272/1421031206.py\"\u001b[1;36m, line \u001b[1;32m17\u001b[0m\n\u001b[1;33m    if t[j][-1]t[j+1][-1]:\u001b[0m\n\u001b[1;37m               ^\u001b[0m\n\u001b[1;31mSyntaxError\u001b[0m\u001b[1;31m:\u001b[0m invalid syntax\n"
     ]
    }
   ],
   "source": [
    "#j=[2,3,4]\n",
    "#j.sort\n",
    "#j #print(j)\n",
    "#le met dans l'ordre croissant par defaut\n",
    "\n",
    "l=[(2, 5), (1, 2), (4, 4), (2, 3), (2, 1)]\n",
    "l.sort(key=lambda x:x[-1]) #-1 donc commence par le dernier element dont sort va comprendre que le triage se fait selon le key\n",
    "l\n",
    "\n",
    "#lambda prend 1 ou plusieurs parametres\n",
    "\n",
    "\n",
    "#deuxieme techniaue basique \n",
    "t=[(2, 5), (1, 2), (4, 4), (2, 3), (2, 1)]\n",
    "for i in range(0,len(l)):\n",
    "    for j in range(0,len(t)-i-1):\n",
    "        if t[j][-1]t[j+1][-1]:\n",
    "            temp=t[j]\n",
    "            t[j]=t[j+l]\n",
    "            t[j+1]=temp"
   ]
  },
  {
   "cell_type": "code",
   "execution_count": 35,
   "id": "ccf96159",
   "metadata": {},
   "outputs": [
    {
     "name": "stdout",
     "output_type": "stream",
     "text": [
      "10\n"
     ]
    }
   ],
   "source": [
    "x=2\n",
    "y=5\n",
    "z=3\n",
    "r=lambda x,y,z:x+y+z\n",
    "print(r(x,y,z))"
   ]
  },
  {
   "cell_type": "markdown",
   "id": "9e830de6",
   "metadata": {},
   "source": [
    "# Question3: \n",
    "\n",
    "#Write a Python program to combine two dictionary adding values for common keys.\n",
    "\n",
    "#d1 = {'a': 100, 'b': 200, 'c':300}\n",
    "#d2 = {'a': 300, 'b': 200, 'd':400}\n",
    "#Expected output: {'a': 400, 'b': 400, 'd': 400, 'c': 300}"
   ]
  },
  {
   "cell_type": "code",
   "execution_count": 45,
   "id": "d1d8fff7",
   "metadata": {},
   "outputs": [
    {
     "data": {
      "text/plain": [
       "{'a': 400, 'b': 400, 'c': 300, 'd': 400}"
      ]
     },
     "execution_count": 45,
     "metadata": {},
     "output_type": "execute_result"
    }
   ],
   "source": [
    "d1 = {'a': 100, 'b': 200, 'c':300}\n",
    "d2 = {'a': 300, 'b': 200, 'd':400}\n",
    "\n",
    "d={}\n",
    "for k in d1.keys():\n",
    "    d[k]=d1[k]+d2.get(k,0) #get va me chercher la valeur de dk du deuxieme dictionnaire si il y a pas elle donne pas defaut 0 \n",
    "    \n",
    "for k in d2.keys():\n",
    "    d[k]=d2[k]+d1.get(k,0)\n",
    "\n",
    "d"
   ]
  },
  {
   "cell_type": "markdown",
   "id": "29059e8c",
   "metadata": {},
   "source": [
    "# Question 4\n",
    "\n",
    "#Question: With a given integral number n, write a program to generate a dictionary that \n",
    "    #contains (i, i*i) such that is an integral number between 1 and n (both included). \n",
    "    #and then the program should print the dictionary. Suppose the following input is supplied to the program: 8 Then, \n",
    "        #the output should be: {1: 1, 2: 4, 3: 9, 4: 16, 5: 25, 6: 36, 7: 49, 8: 64}\n",
    "        \n",
    "        \n",
    "        \n",
    "        "
   ]
  },
  {
   "cell_type": "code",
   "execution_count": 1,
   "id": "4be56397",
   "metadata": {},
   "outputs": [
    {
     "name": "stdout",
     "output_type": "stream",
     "text": [
      "saisir un nombre8\n"
     ]
    },
    {
     "data": {
      "text/plain": [
       "{1: 1, 2: 4, 3: 9, 4: 16, 5: 25, 6: 36, 7: 49, 8: 64}"
      ]
     },
     "execution_count": 1,
     "metadata": {},
     "output_type": "execute_result"
    }
   ],
   "source": [
    "n=int(input(\"saisir un nombre\"))\n",
    "d={}\n",
    "for i in range(1,n+1):\n",
    "    d[i]=i*i\n",
    "    \n",
    "d"
   ]
  },
  {
   "cell_type": "markdown",
   "id": "e89aa81a",
   "metadata": {},
   "source": [
    "# Question 5: \n",
    "\n",
    "#Write a program to sort a tuple by its float element.\n",
    "#For example list= [('item1', '12.20'), ('item2', '15.10'), ('item3', '24.5')]\n",
    "#Expected Output: [('item3', '24.5'), ('item2', '15.10'), ('item1', '12.20')]"
   ]
  },
  {
   "cell_type": "code",
   "execution_count": 9,
   "id": "dea73eac",
   "metadata": {},
   "outputs": [
    {
     "data": {
      "text/plain": [
       "[('item3', '24.5'), ('item2', '15.10'), ('item1', '12.20')]"
      ]
     },
     "execution_count": 9,
     "metadata": {},
     "output_type": "execute_result"
    }
   ],
   "source": [
    "listes= [('item1', '12.20'), ('item2', '15.10'), ('item3', '24.5')]\n",
    "listes.sort(key= lambda x:float(x[1]),reverse=True) #part dans l'indice 1 de touts les tuples=12,5 etc et les convetie\n",
    "#en floats car ce sont des chaines de caracteres.True= reverse permet de les mettre dans l'ordre decroissant  car de base\n",
    "#ils sont par defaut dans lordre croissant.\n",
    "listes"
   ]
  },
  {
   "cell_type": "code",
   "execution_count": null,
   "id": "a76ff116",
   "metadata": {},
   "outputs": [],
   "source": []
  },
  {
   "cell_type": "code",
   "execution_count": null,
   "id": "032ff581",
   "metadata": {},
   "outputs": [],
   "source": []
  }
 ],
 "metadata": {
  "kernelspec": {
   "display_name": "Python 3 (ipykernel)",
   "language": "python",
   "name": "python3"
  },
  "language_info": {
   "codemirror_mode": {
    "name": "ipython",
    "version": 3
   },
   "file_extension": ".py",
   "mimetype": "text/x-python",
   "name": "python",
   "nbconvert_exporter": "python",
   "pygments_lexer": "ipython3",
   "version": "3.9.7"
  }
 },
 "nbformat": 4,
 "nbformat_minor": 5
}
